{
 "cells": [
  {
   "cell_type": "markdown",
   "metadata": {},
   "source": [
    "# **Hands-On Workshop**\n",
    "#### **Description**: For this workshop, we'll work together to explore a dataset being used in a Linear Regression Model to predict a given song's popularity.\n",
    "##### **Quick Note:** Linear Regression models only work with continuous or ordinal variables. That is the variable either must be numeric and within a specific range OR categorical with a defined hierarchy (e.g., rating systems that include 1-5 stars, temperature categories saying \"Hot\", \"Warm\", or \"Cold\"). Thus you'll need to EXCLUDE any discrete variables that aren't ordinal.\n",
    "##### **Hint**: Exclude the following features: track_name, artist1, artist2, artist3, artist4, artist5, album_name, release_date"
   ]
  },
  {
   "cell_type": "code",
   "execution_count": null,
   "metadata": {},
   "outputs": [],
   "source": [
    "import pandas as pd\n",
    "from pandasql import sqldf\n",
    "import plotly.express as px"
   ]
  },
  {
   "cell_type": "code",
   "execution_count": null,
   "metadata": {},
   "outputs": [],
   "source": [
    "training_data = pd.read_parquet(\"clean_songs_dataset.parquet\")\n",
    "training_data"
   ]
  },
  {
   "cell_type": "code",
   "execution_count": null,
   "metadata": {},
   "outputs": [],
   "source": [
    "with open(\"clean_songs_dataset_schema.txt\", \"r\") as file:\n",
    "    for line in file:\n",
    "        print(line)"
   ]
  }
 ],
 "metadata": {
  "kernelspec": {
   "display_name": "Python 3",
   "language": "python",
   "name": "python3"
  },
  "language_info": {
   "codemirror_mode": {
    "name": "ipython",
    "version": 3
   },
   "file_extension": ".py",
   "mimetype": "text/x-python",
   "name": "python",
   "nbconvert_exporter": "python",
   "pygments_lexer": "ipython3",
   "version": "3.9.12"
  },
  "orig_nbformat": 4
 },
 "nbformat": 4,
 "nbformat_minor": 2
}
