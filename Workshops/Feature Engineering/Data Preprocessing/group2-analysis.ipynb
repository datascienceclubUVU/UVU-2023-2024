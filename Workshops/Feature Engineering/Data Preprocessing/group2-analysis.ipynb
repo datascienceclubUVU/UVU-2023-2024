{
 "cells": [
  {
   "cell_type": "markdown",
   "metadata": {},
   "source": [
    "# **Spotify Stream Analysis**\n",
    "#### **Description:** In this mini-project, you will use the \"spotify-2023.csv\" file to cluster songs based on their overall popularity. Your main objective in this project is to prepare the data for analysis by preprocessing the data. You DO NOT have to build a model, unless you want to.\n",
    "#### **Tip:** When doing any form of cluster analysis, ALWAYS visually inspect the features to identify categorical or date-related columns. In Machine Learning, dates are typically parsed to make things easier to compute. However, unless the feature is something like \"days_since\", it should be excluded."
   ]
  },
  {
   "cell_type": "code",
   "execution_count": null,
   "metadata": {},
   "outputs": [],
   "source": [
    "import pandas as pd\n",
    "# training_data = pd.read_csv('spotify-2023.csv', encoding='latin-1')"
   ]
  }
 ],
 "metadata": {
  "kernelspec": {
   "display_name": "Python 3",
   "language": "python",
   "name": "python3"
  },
  "language_info": {
   "codemirror_mode": {
    "name": "ipython",
    "version": 3
   },
   "file_extension": ".py",
   "mimetype": "text/x-python",
   "name": "python",
   "nbconvert_exporter": "python",
   "pygments_lexer": "ipython3",
   "version": "3.9.12"
  },
  "orig_nbformat": 4
 },
 "nbformat": 4,
 "nbformat_minor": 2
}
