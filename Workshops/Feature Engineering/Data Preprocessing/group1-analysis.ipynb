{
 "cells": [
  {
   "cell_type": "markdown",
   "metadata": {},
   "source": [
    "# **Laptop Prediction Analysis**\n",
    "#### **Description:** In this mini-project, you will use the \"laptops.csv\" file to predict Laptop prices based on various characteristics including manufacturer, screen_size, amount of RAM, and amount of storage. Your main objective in this project is to prepare the data for analysis by preprocessing the data. You DO NOT have to build a model, unless you want to.\n",
    "#### **Tip**: With this dataset, you can use various algorithms to build your model. However, take into account the categorical features present, do you think they will have an impact on the price? If so, it's recommended you use a Regression Tree, otherwise use Linear Regression."
   ]
  },
  {
   "cell_type": "code",
   "execution_count": null,
   "metadata": {},
   "outputs": [],
   "source": [
    "import pandas as pd"
   ]
  }
 ],
 "metadata": {
  "kernelspec": {
   "display_name": "Python 3",
   "language": "python",
   "name": "python3"
  },
  "language_info": {
   "codemirror_mode": {
    "name": "ipython",
    "version": 3
   },
   "file_extension": ".py",
   "mimetype": "text/x-python",
   "name": "python",
   "nbconvert_exporter": "python",
   "pygments_lexer": "ipython3",
   "version": "3.9.12"
  },
  "orig_nbformat": 4
 },
 "nbformat": 4,
 "nbformat_minor": 2
}
