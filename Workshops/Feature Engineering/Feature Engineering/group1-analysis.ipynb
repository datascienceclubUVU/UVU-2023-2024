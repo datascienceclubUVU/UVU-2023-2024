{
 "cells": [
  {
   "cell_type": "markdown",
   "metadata": {},
   "source": [
    "# **Fast Food Calorie Analysis**\n",
    "#### **Description:** In this mini-project, you will use the \"fastfood_calories.csv\" file to predict how many calories are in a given fast food item. Your objective is to preprocess the data and select features using one or more of the approaches identified in the tutorial. You will be using a Linear Regression model for this analysis.\n",
    "#### **Tip:** Remember to impute missing values."
   ]
  },
  {
   "cell_type": "code",
   "execution_count": null,
   "metadata": {},
   "outputs": [],
   "source": []
  }
 ],
 "metadata": {
  "language_info": {
   "name": "python"
  }
 },
 "nbformat": 4,
 "nbformat_minor": 2
}
