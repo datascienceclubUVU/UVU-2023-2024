{
 "cells": [
  {
   "cell_type": "markdown",
   "metadata": {},
   "source": [
    "# **Feature Engineering Walkthrough**\n",
    "\n",
    "#### **Description**: In this Notebook, we'll discuss what Features and Feature Stores are, how they are used in Machine Learning, and various Feature Engineering techniques."
   ]
  },
  {
   "cell_type": "markdown",
   "metadata": {},
   "source": [
    "## **Recap**\n",
    "##### Here is a quick review of the steps we took before Data Preprocessing:\n",
    "###### 1. **Data Sources**: We identified relevant data sources.\n",
    "###### 2. **Data Ingestion**: We got the data from the data sources identified.\n",
    "###### 3. **Data Storage**: We found a temporary storage repository for the data we ingested.\n",
    "###### 4. **Data Wrangling**: We cleaned the data to make it useable for analysis.\n",
    "###### 5. **Exploratory Data Analysis (EDA)**: We identified outliers, relationships between variables, and any missing values.\n",
    "###### 6. **Data Preprocessing**: We formatted the data in a way where the machine can make sense of the data."
   ]
  },
  {
   "cell_type": "markdown",
   "metadata": {},
   "source": [
    "### **1. What is Feature Engineering?**\n",
    "\n",
    "##### ***Feature Engineering*** is the process of selecting, manipulating, and transforming raw data into features that can be used in supervised learning. \n",
    "###### (https://towardsdatascience.com/what-is-feature-engineering-importance-tools-and-techniques-for-machine-learning-2080b0269f10)\n",
    "\n",
    "##### When collecting data at the beginning of the Machine Learning Lifecycle, you'll likely have more than 100 Features to choose from. Although the majority of these may be helpful when predicting or classifying an observation, there will be quite a few that may create \"noise\" during the training process."
   ]
  },
  {
   "cell_type": "markdown",
   "metadata": {},
   "source": [
    "### **2. What is a Feature Store?**\n",
    "\n",
    "##### A ***feature store*** for machine learning is a platform that manages and provides access to both historical and live feature data and also provides support for creating point-in-time correct datasets from the historical feature data.\n",
    "\n",
    "###### (https://www.featurestore.org/what-is-a-feature-store)\n",
    "\n",
    "##### It is a central location where you can either create or update groups of features created from multiple different data sources, or create and update new datasets from those feature groups for training models or for use in applications that do not want to compute the features but just retrieve them when it needs them to make predictions."
   ]
  },
  {
   "cell_type": "code",
   "execution_count": null,
   "metadata": {},
   "outputs": [],
   "source": []
  }
 ],
 "metadata": {
  "language_info": {
   "name": "python"
  }
 },
 "nbformat": 4,
 "nbformat_minor": 2
}
