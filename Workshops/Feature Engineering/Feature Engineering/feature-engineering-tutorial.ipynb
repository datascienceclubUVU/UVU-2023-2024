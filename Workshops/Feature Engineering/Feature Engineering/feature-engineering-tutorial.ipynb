{
 "cells": [
  {
   "cell_type": "markdown",
   "metadata": {},
   "source": [
    "# **Feature Engineering Walkthrough**\n",
    "\n",
    "#### **Description**: In this Notebook, we'll discuss what Features and Feature Stores are, how they are used in Machine Learning, and various Feature Engineering techniques."
   ]
  },
  {
   "cell_type": "markdown",
   "metadata": {},
   "source": [
    "## **Recap**\n",
    "##### Here is a quick review of the steps we took before Data Preprocessing:\n",
    "###### 1. **Data Sources**: We identified relevant data sources.\n",
    "###### 2. **Data Ingestion**: We got the data from the data sources identified.\n",
    "###### 3. **Data Storage**: We found a temporary storage repository for the data we ingested.\n",
    "###### 4. **Data Wrangling**: We cleaned the data to make it useable for analysis.\n",
    "###### 5. **Exploratory Data Analysis (EDA)**: We identified outliers, relationships between variables, and any missing values.\n",
    "###### 6. **Data Preprocessing**: We formatted the data in a way where the machine can make sense of the data."
   ]
  },
  {
   "cell_type": "markdown",
   "metadata": {},
   "source": [
    "### **1. What is Feature Engineering?**\n",
    "\n",
    "##### ***Feature Engineering*** is the process of selecting, manipulating, and transforming raw data into features that can be used in supervised learning. \n",
    "###### (https://towardsdatascience.com/what-is-feature-engineering-importance-tools-and-techniques-for-machine-learning-2080b0269f10)\n",
    "\n",
    "##### When collecting data at the beginning of the Machine Learning Lifecycle, you'll likely have more than 100 Features to choose from. Although the majority of these may be helpful when predicting or classifying an observation, there will be quite a few that may create \"noise\" during the training process."
   ]
  },
  {
   "cell_type": "markdown",
   "metadata": {},
   "source": [
    "### **2. What is a Feature Store?**\n",
    "\n",
    "##### **Watch the Following Video for a Short 2-Minute Summary:** https://www.youtube.com/watch?v=l6xfFYZAyns\n",
    "\n",
    "##### A ***feature store*** for machine learning is a platform that manages and provides access to both historical and live feature data and also provides support for creating point-in-time correct datasets from the historical feature data.\n",
    "\n",
    "###### (https://www.featurestore.org/what-is-a-feature-store)\n",
    "\n",
    "##### It is a central location where you can either create or update groups of features created from multiple different data sources, or create and update new datasets from those feature groups for training models or for use in applications that do not want to compute the features but just retrieve them when it needs them to make predictions."
   ]
  },
  {
   "cell_type": "markdown",
   "metadata": {},
   "source": [
    "### **3. Feature Selection Techniques**\n",
    "##### In practice, Feature Selection is traditionally performed before Data Pre-processing.\n",
    "###### The following information was extracted from the following video: https://www.youtube.com/watch?v=7tW29jBceRw\n",
    "##### **Why Do we Perform Feature Selection?**\n",
    "##### Simply put, although modern computers are fast, they can quickly get bogged down when the concept of Big O Notation comes into play. Thus, Feature Selection provides the following advantages:\n",
    "- Shorten Model Training Times -> Improve Computational Efficiency\n",
    "- Reduce Generalization Errors in the Model by Removing Irrelevant Features\n",
    "- Improves the Predicitve Power of the Model and Reduces the Impact of Overfitting\n",
    "#### **Intrinsic Methods:**\n",
    "- Some algorithms have Feature Selection processes embedded. These simply put weights on the Features, allowing for less important features to be disregarded.\n",
    "- Decision Trees put weights on individual Features when finding the best split methods.\n",
    "- Random Forests uses an ensemble approach where it selects a random subset of Features to use in the tree and compares the relationship between them. It iterates through several combinations of Features until it gets an understanding of how well correlated each Feature is with all the other Features.\n",
    "- Regularization Models, such as Neural Networks, do something similar where they place an initial weight on all the features and then use a Loss Function to find the optimal weight for each Feature.\n",
    "#### **Filter Methods**\n",
    "- When using an algorithm that doesn't involve an Intrinsic Method, you can use Statistical Tests to identify the best subset of Features to use in your model.\n",
    "- Correlation Matrices can be used to visualize the relationships between the Target Feature and the Predictor Features.\n",
    "- When using a library such as SciKit-Learn, some algorithms provide a \"Feature Importance\" result set which uses a Statistical approach to identifying how much each individual Feature contributed to the outcome.\n",
    "- With Domain Knowledge, or knowledge applied to a specific field of study (e.g., healthcare, marketing/sales), you can use intuition to remove Features that you're confident won't affect the model whatsoever.\n",
    "#### **Wrapper Methods**\n",
    "- ML Engineers sometimes take an iterative approach where they first train the model on all the Features and then remove Features one by one until the best result is achieved.\n",
    "- On the other hand, ML Engineers also start with a single Feature and then add Featrues one at a time until the best result is achieved.\n",
    "- This is commonly used in Linear and Logistic Regression techniques where p-values are used to identify Feature Importance."
   ]
  },
  {
   "cell_type": "markdown",
   "metadata": {},
   "source": [
    "### **Feature Engineering in Action**\n",
    "##### In the example below, our objective is to predict the price of a used car using the best set of Features we have available."
   ]
  },
  {
   "cell_type": "code",
   "execution_count": 2,
   "metadata": {},
   "outputs": [
    {
     "data": {
      "text/html": [
       "<div>\n",
       "<style scoped>\n",
       "    .dataframe tbody tr th:only-of-type {\n",
       "        vertical-align: middle;\n",
       "    }\n",
       "\n",
       "    .dataframe tbody tr th {\n",
       "        vertical-align: top;\n",
       "    }\n",
       "\n",
       "    .dataframe thead th {\n",
       "        text-align: right;\n",
       "    }\n",
       "</style>\n",
       "<table border=\"1\" class=\"dataframe\">\n",
       "  <thead>\n",
       "    <tr style=\"text-align: right;\">\n",
       "      <th></th>\n",
       "      <th>price</th>\n",
       "      <th>model_year</th>\n",
       "      <th>make</th>\n",
       "      <th>model</th>\n",
       "      <th>trim</th>\n",
       "      <th>mileage</th>\n",
       "      <th>exterior_color</th>\n",
       "      <th>interior_color</th>\n",
       "      <th>num_accidents</th>\n",
       "      <th>num_owners</th>\n",
       "      <th>usage_type</th>\n",
       "      <th>city</th>\n",
       "      <th>state</th>\n",
       "    </tr>\n",
       "  </thead>\n",
       "  <tbody>\n",
       "    <tr>\n",
       "      <th>0</th>\n",
       "      <td>13895</td>\n",
       "      <td>2006</td>\n",
       "      <td>BMW</td>\n",
       "      <td>Z4</td>\n",
       "      <td>Roadster 3.0si</td>\n",
       "      <td>114889</td>\n",
       "      <td>White</td>\n",
       "      <td>Unknown</td>\n",
       "      <td>0</td>\n",
       "      <td>5</td>\n",
       "      <td>Personal</td>\n",
       "      <td>Tempe</td>\n",
       "      <td>AZ</td>\n",
       "    </tr>\n",
       "    <tr>\n",
       "      <th>1</th>\n",
       "      <td>19888</td>\n",
       "      <td>2008</td>\n",
       "      <td>BMW</td>\n",
       "      <td>M5</td>\n",
       "      <td>Sedan</td>\n",
       "      <td>129195</td>\n",
       "      <td>Blue</td>\n",
       "      <td>Black</td>\n",
       "      <td>0</td>\n",
       "      <td>3</td>\n",
       "      <td>Personal</td>\n",
       "      <td>Tempe</td>\n",
       "      <td>AZ</td>\n",
       "    </tr>\n",
       "    <tr>\n",
       "      <th>2</th>\n",
       "      <td>19999</td>\n",
       "      <td>2008</td>\n",
       "      <td>BMW</td>\n",
       "      <td>M6</td>\n",
       "      <td>Coupe</td>\n",
       "      <td>93700</td>\n",
       "      <td>Gray</td>\n",
       "      <td>Black</td>\n",
       "      <td>0</td>\n",
       "      <td>2</td>\n",
       "      <td>Fleet</td>\n",
       "      <td>West Park</td>\n",
       "      <td>FL</td>\n",
       "    </tr>\n",
       "    <tr>\n",
       "      <th>3</th>\n",
       "      <td>18995</td>\n",
       "      <td>2009</td>\n",
       "      <td>BMW</td>\n",
       "      <td>Z4</td>\n",
       "      <td>Roadster sDrive30i</td>\n",
       "      <td>95185</td>\n",
       "      <td>Gray</td>\n",
       "      <td>Black</td>\n",
       "      <td>1</td>\n",
       "      <td>5</td>\n",
       "      <td>Fleet</td>\n",
       "      <td>Englewood</td>\n",
       "      <td>CO</td>\n",
       "    </tr>\n",
       "    <tr>\n",
       "      <th>4</th>\n",
       "      <td>6500</td>\n",
       "      <td>2010</td>\n",
       "      <td>BMW</td>\n",
       "      <td>X3</td>\n",
       "      <td>xDrive30i AWD</td>\n",
       "      <td>126832</td>\n",
       "      <td>Red</td>\n",
       "      <td>Beige</td>\n",
       "      <td>0</td>\n",
       "      <td>3</td>\n",
       "      <td>Personal</td>\n",
       "      <td>Bountiful</td>\n",
       "      <td>UT</td>\n",
       "    </tr>\n",
       "  </tbody>\n",
       "</table>\n",
       "</div>"
      ],
      "text/plain": [
       "   price  model_year make model                trim  mileage exterior_color   \n",
       "0  13895        2006  BMW    Z4      Roadster 3.0si   114889          White  \\\n",
       "1  19888        2008  BMW    M5               Sedan   129195           Blue   \n",
       "2  19999        2008  BMW    M6               Coupe    93700           Gray   \n",
       "3  18995        2009  BMW    Z4  Roadster sDrive30i    95185           Gray   \n",
       "4   6500        2010  BMW    X3       xDrive30i AWD   126832            Red   \n",
       "\n",
       "  interior_color  num_accidents  num_owners usage_type       city state  \n",
       "0        Unknown              0           5   Personal      Tempe    AZ  \n",
       "1          Black              0           3   Personal      Tempe    AZ  \n",
       "2          Black              0           2      Fleet  West Park    FL  \n",
       "3          Black              1           5      Fleet  Englewood    CO  \n",
       "4          Beige              0           3   Personal  Bountiful    UT  "
      ]
     },
     "execution_count": 2,
     "metadata": {},
     "output_type": "execute_result"
    }
   ],
   "source": [
    "import pandas as pd\n",
    "\n",
    "# preview dataset\n",
    "\n",
    "training_data = pd.read_parquet('clean_car_listings.parquet')\n",
    "training_data.head()"
   ]
  },
  {
   "cell_type": "markdown",
   "metadata": {},
   "source": [
    "##### **Intrinsic Approach**\n",
    "###### In this example, we'll go through the MLOps process (let's assume we have already performed Data Wrangling and EDA). With the Intrinsic Approach, we'll make use of a Decision Tree to predict the price feature."
   ]
  },
  {
   "cell_type": "code",
   "execution_count": 24,
   "metadata": {},
   "outputs": [
    {
     "data": {
      "application/vnd.plotly.v1+json": {
       "config": {
        "plotlyServerURL": "https://plotly.com"
       },
       "data": [
        {
         "alignmentgroup": "True",
         "hovertemplate": "value=%{x}<br>feature=%{y}<extra></extra>",
         "legendgroup": "",
         "marker": {
          "color": "#636efa",
          "pattern": {
           "shape": ""
          }
         },
         "name": "",
         "offsetgroup": "",
         "orientation": "h",
         "showlegend": false,
         "textposition": "auto",
         "type": "bar",
         "x": [
          0.0018504913747775101,
          0.004741162833084598,
          0.005539434769482601,
          0.0066467673773995435,
          0.008802429219487214,
          0.013788524584855097,
          0.01449504838398063,
          0.11187919168901787,
          0.1308669740311711,
          0.1425846585342223,
          0.27319261995719185,
          0.2856126972453296
         ],
         "xaxis": "x",
         "y": [
          "num_accidents",
          "usage_type",
          "num_owners",
          "exterior_color",
          "interior_color",
          "state",
          "city",
          "make",
          "mileage",
          "trim",
          "model",
          "model_year"
         ],
         "yaxis": "y"
        }
       ],
       "layout": {
        "barmode": "relative",
        "legend": {
         "tracegroupgap": 0
        },
        "margin": {
         "t": 60
        },
        "template": {
         "data": {
          "bar": [
           {
            "error_x": {
             "color": "#2a3f5f"
            },
            "error_y": {
             "color": "#2a3f5f"
            },
            "marker": {
             "line": {
              "color": "#E5ECF6",
              "width": 0.5
             },
             "pattern": {
              "fillmode": "overlay",
              "size": 10,
              "solidity": 0.2
             }
            },
            "type": "bar"
           }
          ],
          "barpolar": [
           {
            "marker": {
             "line": {
              "color": "#E5ECF6",
              "width": 0.5
             },
             "pattern": {
              "fillmode": "overlay",
              "size": 10,
              "solidity": 0.2
             }
            },
            "type": "barpolar"
           }
          ],
          "carpet": [
           {
            "aaxis": {
             "endlinecolor": "#2a3f5f",
             "gridcolor": "white",
             "linecolor": "white",
             "minorgridcolor": "white",
             "startlinecolor": "#2a3f5f"
            },
            "baxis": {
             "endlinecolor": "#2a3f5f",
             "gridcolor": "white",
             "linecolor": "white",
             "minorgridcolor": "white",
             "startlinecolor": "#2a3f5f"
            },
            "type": "carpet"
           }
          ],
          "choropleth": [
           {
            "colorbar": {
             "outlinewidth": 0,
             "ticks": ""
            },
            "type": "choropleth"
           }
          ],
          "contour": [
           {
            "colorbar": {
             "outlinewidth": 0,
             "ticks": ""
            },
            "colorscale": [
             [
              0,
              "#0d0887"
             ],
             [
              0.1111111111111111,
              "#46039f"
             ],
             [
              0.2222222222222222,
              "#7201a8"
             ],
             [
              0.3333333333333333,
              "#9c179e"
             ],
             [
              0.4444444444444444,
              "#bd3786"
             ],
             [
              0.5555555555555556,
              "#d8576b"
             ],
             [
              0.6666666666666666,
              "#ed7953"
             ],
             [
              0.7777777777777778,
              "#fb9f3a"
             ],
             [
              0.8888888888888888,
              "#fdca26"
             ],
             [
              1,
              "#f0f921"
             ]
            ],
            "type": "contour"
           }
          ],
          "contourcarpet": [
           {
            "colorbar": {
             "outlinewidth": 0,
             "ticks": ""
            },
            "type": "contourcarpet"
           }
          ],
          "heatmap": [
           {
            "colorbar": {
             "outlinewidth": 0,
             "ticks": ""
            },
            "colorscale": [
             [
              0,
              "#0d0887"
             ],
             [
              0.1111111111111111,
              "#46039f"
             ],
             [
              0.2222222222222222,
              "#7201a8"
             ],
             [
              0.3333333333333333,
              "#9c179e"
             ],
             [
              0.4444444444444444,
              "#bd3786"
             ],
             [
              0.5555555555555556,
              "#d8576b"
             ],
             [
              0.6666666666666666,
              "#ed7953"
             ],
             [
              0.7777777777777778,
              "#fb9f3a"
             ],
             [
              0.8888888888888888,
              "#fdca26"
             ],
             [
              1,
              "#f0f921"
             ]
            ],
            "type": "heatmap"
           }
          ],
          "heatmapgl": [
           {
            "colorbar": {
             "outlinewidth": 0,
             "ticks": ""
            },
            "colorscale": [
             [
              0,
              "#0d0887"
             ],
             [
              0.1111111111111111,
              "#46039f"
             ],
             [
              0.2222222222222222,
              "#7201a8"
             ],
             [
              0.3333333333333333,
              "#9c179e"
             ],
             [
              0.4444444444444444,
              "#bd3786"
             ],
             [
              0.5555555555555556,
              "#d8576b"
             ],
             [
              0.6666666666666666,
              "#ed7953"
             ],
             [
              0.7777777777777778,
              "#fb9f3a"
             ],
             [
              0.8888888888888888,
              "#fdca26"
             ],
             [
              1,
              "#f0f921"
             ]
            ],
            "type": "heatmapgl"
           }
          ],
          "histogram": [
           {
            "marker": {
             "pattern": {
              "fillmode": "overlay",
              "size": 10,
              "solidity": 0.2
             }
            },
            "type": "histogram"
           }
          ],
          "histogram2d": [
           {
            "colorbar": {
             "outlinewidth": 0,
             "ticks": ""
            },
            "colorscale": [
             [
              0,
              "#0d0887"
             ],
             [
              0.1111111111111111,
              "#46039f"
             ],
             [
              0.2222222222222222,
              "#7201a8"
             ],
             [
              0.3333333333333333,
              "#9c179e"
             ],
             [
              0.4444444444444444,
              "#bd3786"
             ],
             [
              0.5555555555555556,
              "#d8576b"
             ],
             [
              0.6666666666666666,
              "#ed7953"
             ],
             [
              0.7777777777777778,
              "#fb9f3a"
             ],
             [
              0.8888888888888888,
              "#fdca26"
             ],
             [
              1,
              "#f0f921"
             ]
            ],
            "type": "histogram2d"
           }
          ],
          "histogram2dcontour": [
           {
            "colorbar": {
             "outlinewidth": 0,
             "ticks": ""
            },
            "colorscale": [
             [
              0,
              "#0d0887"
             ],
             [
              0.1111111111111111,
              "#46039f"
             ],
             [
              0.2222222222222222,
              "#7201a8"
             ],
             [
              0.3333333333333333,
              "#9c179e"
             ],
             [
              0.4444444444444444,
              "#bd3786"
             ],
             [
              0.5555555555555556,
              "#d8576b"
             ],
             [
              0.6666666666666666,
              "#ed7953"
             ],
             [
              0.7777777777777778,
              "#fb9f3a"
             ],
             [
              0.8888888888888888,
              "#fdca26"
             ],
             [
              1,
              "#f0f921"
             ]
            ],
            "type": "histogram2dcontour"
           }
          ],
          "mesh3d": [
           {
            "colorbar": {
             "outlinewidth": 0,
             "ticks": ""
            },
            "type": "mesh3d"
           }
          ],
          "parcoords": [
           {
            "line": {
             "colorbar": {
              "outlinewidth": 0,
              "ticks": ""
             }
            },
            "type": "parcoords"
           }
          ],
          "pie": [
           {
            "automargin": true,
            "type": "pie"
           }
          ],
          "scatter": [
           {
            "fillpattern": {
             "fillmode": "overlay",
             "size": 10,
             "solidity": 0.2
            },
            "type": "scatter"
           }
          ],
          "scatter3d": [
           {
            "line": {
             "colorbar": {
              "outlinewidth": 0,
              "ticks": ""
             }
            },
            "marker": {
             "colorbar": {
              "outlinewidth": 0,
              "ticks": ""
             }
            },
            "type": "scatter3d"
           }
          ],
          "scattercarpet": [
           {
            "marker": {
             "colorbar": {
              "outlinewidth": 0,
              "ticks": ""
             }
            },
            "type": "scattercarpet"
           }
          ],
          "scattergeo": [
           {
            "marker": {
             "colorbar": {
              "outlinewidth": 0,
              "ticks": ""
             }
            },
            "type": "scattergeo"
           }
          ],
          "scattergl": [
           {
            "marker": {
             "colorbar": {
              "outlinewidth": 0,
              "ticks": ""
             }
            },
            "type": "scattergl"
           }
          ],
          "scattermapbox": [
           {
            "marker": {
             "colorbar": {
              "outlinewidth": 0,
              "ticks": ""
             }
            },
            "type": "scattermapbox"
           }
          ],
          "scatterpolar": [
           {
            "marker": {
             "colorbar": {
              "outlinewidth": 0,
              "ticks": ""
             }
            },
            "type": "scatterpolar"
           }
          ],
          "scatterpolargl": [
           {
            "marker": {
             "colorbar": {
              "outlinewidth": 0,
              "ticks": ""
             }
            },
            "type": "scatterpolargl"
           }
          ],
          "scatterternary": [
           {
            "marker": {
             "colorbar": {
              "outlinewidth": 0,
              "ticks": ""
             }
            },
            "type": "scatterternary"
           }
          ],
          "surface": [
           {
            "colorbar": {
             "outlinewidth": 0,
             "ticks": ""
            },
            "colorscale": [
             [
              0,
              "#0d0887"
             ],
             [
              0.1111111111111111,
              "#46039f"
             ],
             [
              0.2222222222222222,
              "#7201a8"
             ],
             [
              0.3333333333333333,
              "#9c179e"
             ],
             [
              0.4444444444444444,
              "#bd3786"
             ],
             [
              0.5555555555555556,
              "#d8576b"
             ],
             [
              0.6666666666666666,
              "#ed7953"
             ],
             [
              0.7777777777777778,
              "#fb9f3a"
             ],
             [
              0.8888888888888888,
              "#fdca26"
             ],
             [
              1,
              "#f0f921"
             ]
            ],
            "type": "surface"
           }
          ],
          "table": [
           {
            "cells": {
             "fill": {
              "color": "#EBF0F8"
             },
             "line": {
              "color": "white"
             }
            },
            "header": {
             "fill": {
              "color": "#C8D4E3"
             },
             "line": {
              "color": "white"
             }
            },
            "type": "table"
           }
          ]
         },
         "layout": {
          "annotationdefaults": {
           "arrowcolor": "#2a3f5f",
           "arrowhead": 0,
           "arrowwidth": 1
          },
          "autotypenumbers": "strict",
          "coloraxis": {
           "colorbar": {
            "outlinewidth": 0,
            "ticks": ""
           }
          },
          "colorscale": {
           "diverging": [
            [
             0,
             "#8e0152"
            ],
            [
             0.1,
             "#c51b7d"
            ],
            [
             0.2,
             "#de77ae"
            ],
            [
             0.3,
             "#f1b6da"
            ],
            [
             0.4,
             "#fde0ef"
            ],
            [
             0.5,
             "#f7f7f7"
            ],
            [
             0.6,
             "#e6f5d0"
            ],
            [
             0.7,
             "#b8e186"
            ],
            [
             0.8,
             "#7fbc41"
            ],
            [
             0.9,
             "#4d9221"
            ],
            [
             1,
             "#276419"
            ]
           ],
           "sequential": [
            [
             0,
             "#0d0887"
            ],
            [
             0.1111111111111111,
             "#46039f"
            ],
            [
             0.2222222222222222,
             "#7201a8"
            ],
            [
             0.3333333333333333,
             "#9c179e"
            ],
            [
             0.4444444444444444,
             "#bd3786"
            ],
            [
             0.5555555555555556,
             "#d8576b"
            ],
            [
             0.6666666666666666,
             "#ed7953"
            ],
            [
             0.7777777777777778,
             "#fb9f3a"
            ],
            [
             0.8888888888888888,
             "#fdca26"
            ],
            [
             1,
             "#f0f921"
            ]
           ],
           "sequentialminus": [
            [
             0,
             "#0d0887"
            ],
            [
             0.1111111111111111,
             "#46039f"
            ],
            [
             0.2222222222222222,
             "#7201a8"
            ],
            [
             0.3333333333333333,
             "#9c179e"
            ],
            [
             0.4444444444444444,
             "#bd3786"
            ],
            [
             0.5555555555555556,
             "#d8576b"
            ],
            [
             0.6666666666666666,
             "#ed7953"
            ],
            [
             0.7777777777777778,
             "#fb9f3a"
            ],
            [
             0.8888888888888888,
             "#fdca26"
            ],
            [
             1,
             "#f0f921"
            ]
           ]
          },
          "colorway": [
           "#636efa",
           "#EF553B",
           "#00cc96",
           "#ab63fa",
           "#FFA15A",
           "#19d3f3",
           "#FF6692",
           "#B6E880",
           "#FF97FF",
           "#FECB52"
          ],
          "font": {
           "color": "#2a3f5f"
          },
          "geo": {
           "bgcolor": "white",
           "lakecolor": "white",
           "landcolor": "#E5ECF6",
           "showlakes": true,
           "showland": true,
           "subunitcolor": "white"
          },
          "hoverlabel": {
           "align": "left"
          },
          "hovermode": "closest",
          "mapbox": {
           "style": "light"
          },
          "paper_bgcolor": "white",
          "plot_bgcolor": "#E5ECF6",
          "polar": {
           "angularaxis": {
            "gridcolor": "white",
            "linecolor": "white",
            "ticks": ""
           },
           "bgcolor": "#E5ECF6",
           "radialaxis": {
            "gridcolor": "white",
            "linecolor": "white",
            "ticks": ""
           }
          },
          "scene": {
           "xaxis": {
            "backgroundcolor": "#E5ECF6",
            "gridcolor": "white",
            "gridwidth": 2,
            "linecolor": "white",
            "showbackground": true,
            "ticks": "",
            "zerolinecolor": "white"
           },
           "yaxis": {
            "backgroundcolor": "#E5ECF6",
            "gridcolor": "white",
            "gridwidth": 2,
            "linecolor": "white",
            "showbackground": true,
            "ticks": "",
            "zerolinecolor": "white"
           },
           "zaxis": {
            "backgroundcolor": "#E5ECF6",
            "gridcolor": "white",
            "gridwidth": 2,
            "linecolor": "white",
            "showbackground": true,
            "ticks": "",
            "zerolinecolor": "white"
           }
          },
          "shapedefaults": {
           "line": {
            "color": "#2a3f5f"
           }
          },
          "ternary": {
           "aaxis": {
            "gridcolor": "white",
            "linecolor": "white",
            "ticks": ""
           },
           "baxis": {
            "gridcolor": "white",
            "linecolor": "white",
            "ticks": ""
           },
           "bgcolor": "#E5ECF6",
           "caxis": {
            "gridcolor": "white",
            "linecolor": "white",
            "ticks": ""
           }
          },
          "title": {
           "x": 0.05
          },
          "xaxis": {
           "automargin": true,
           "gridcolor": "white",
           "linecolor": "white",
           "ticks": "",
           "title": {
            "standoff": 15
           },
           "zerolinecolor": "white",
           "zerolinewidth": 2
          },
          "yaxis": {
           "automargin": true,
           "gridcolor": "white",
           "linecolor": "white",
           "ticks": "",
           "title": {
            "standoff": 15
           },
           "zerolinecolor": "white",
           "zerolinewidth": 2
          }
         }
        },
        "xaxis": {
         "anchor": "y",
         "domain": [
          0,
          1
         ],
         "title": {
          "text": "value"
         }
        },
        "yaxis": {
         "anchor": "x",
         "domain": [
          0,
          1
         ],
         "title": {
          "text": "feature"
         }
        }
       }
      }
     },
     "metadata": {},
     "output_type": "display_data"
    }
   ],
   "source": [
    "from sklearn.preprocessing import LabelEncoder\n",
    "from sklearn.model_selection import train_test_split\n",
    "from sklearn.tree import DecisionTreeRegressor\n",
    "import plotly.express as px\n",
    "\n",
    "# preprocess data\n",
    "encoder = LabelEncoder()\n",
    "training_data['make'] = encoder.fit_transform(training_data['make'])\n",
    "training_data['model'] = encoder.fit_transform(training_data['model'])\n",
    "training_data['trim'] = encoder.fit_transform(training_data['trim'])\n",
    "training_data['exterior_color'] = encoder.fit_transform(training_data['exterior_color'])\n",
    "training_data['interior_color'] = encoder.fit_transform(training_data['interior_color'])\n",
    "training_data['usage_type'] = encoder.fit_transform(training_data['usage_type'])\n",
    "training_data['city'] = encoder.fit_transform(training_data['city'])\n",
    "training_data['state'] = encoder.fit_transform(training_data['state'])\n",
    "\n",
    "# specify predictor and target features\n",
    "X = training_data.drop(columns=['price'])\n",
    "y = training_data['price']\n",
    "\n",
    "# split dataset into Training and Testing Subsets\n",
    "X_train, X_test, y_train, y_test = train_test_split(X, y, test_size=0.2, random_state=42)\n",
    "\n",
    "# fit training data to model\n",
    "used_car_model = DecisionTreeRegressor()\n",
    "used_car_model.fit(X_train, y_train)\n",
    "\n",
    "# create DataFrame with feature names and values, visualize feature importance chart\n",
    "features = pd.DataFrame({'value':used_car_model.feature_importances_}, index=[X.columns])\n",
    "features.reset_index(inplace=True)\n",
    "features.rename(columns={'level_0':'feature'}, inplace=True)\n",
    "px.bar(features.sort_values(by='value'), x='value', y='feature')"
   ]
  },
  {
   "cell_type": "markdown",
   "metadata": {},
   "source": [
    "##### Using our Decision Tree's built-in Intrinsic Method of Feature Engineering, we can identify that **model_year, model**, and **trim** are the 3 most important Features, whereas **num_accidents, usage_type**, and **num_owners** are the three least important Featrues**"
   ]
  },
  {
   "cell_type": "markdown",
   "metadata": {},
   "source": [
    "#### **Filter Approach**\n",
    "##### In this example, we'll do the same thing except use a Linear Regression model. To do this, we'll need to exclude all categorical features. Since Linear Regression is based on p-values we'll use the ***statsmodels*** library."
   ]
  },
  {
   "cell_type": "code",
   "execution_count": 32,
   "metadata": {},
   "outputs": [
    {
     "name": "stdout",
     "output_type": "stream",
     "text": [
      "                  price  model_year   mileage  num_accidents  num_owners\n",
      "price          1.000000    0.571336 -0.567152      -0.164303   -0.310564\n",
      "model_year     0.571336    1.000000 -0.741074      -0.193095   -0.507374\n",
      "mileage       -0.567152   -0.741074  1.000000       0.190236    0.435897\n",
      "num_accidents -0.164303   -0.193095  0.190236       1.000000    0.131187\n",
      "num_owners    -0.310564   -0.507374  0.435897       0.131187    1.000000\n",
      "\n",
      "\n",
      "                                 OLS Regression Results                                \n",
      "=======================================================================================\n",
      "Dep. Variable:                  price   R-squared (uncentered):                9093.017\n",
      "Model:                            OLS   Adj. R-squared (uncentered):           9093.505\n",
      "Method:                 Least Squares   F-statistic:                         -1.865e+04\n",
      "Date:                Tue, 17 Oct 2023   Prob (F-statistic):                        1.00\n",
      "Time:                        14:13:33   Log-Likelihood:                     -7.8959e+05\n",
      "No. Observations:               74595   AIC:                                  1.579e+06\n",
      "Df Residuals:                   74591   BIC:                                  1.579e+06\n",
      "Df Model:                           4                                                  \n",
      "Covariance Type:            nonrobust                                                  \n",
      "=================================================================================\n",
      "                    coef    std err          t      P>|t|      [0.025      0.975]\n",
      "---------------------------------------------------------------------------------\n",
      "model_year       19.6151      0.039    501.789      0.000      19.538      19.692\n",
      "mileage          -0.1802      0.001   -154.914      0.000      -0.182      -0.178\n",
      "num_accidents -1038.5460     58.128    -17.867      0.000   -1152.476    -924.616\n",
      "num_owners     -996.1127     44.801    -22.234      0.000   -1083.922    -908.303\n",
      "==============================================================================\n",
      "Omnibus:                    27520.515   Durbin-Watson:                   0.550\n",
      "Prob(Omnibus):                  0.000   Jarque-Bera (JB):           131501.368\n",
      "Skew:                           1.746   Prob(JB):                         0.00\n",
      "Kurtosis:                       8.487   Cond. No.                     1.04e+05\n",
      "==============================================================================\n",
      "\n",
      "Notes:\n",
      "[1] R² is computed without centering (uncentered) since the model does not contain a constant.\n",
      "[2] Standard Errors assume that the covariance matrix of the errors is correctly specified.\n",
      "[3] The condition number is large, 1.04e+05. This might indicate that there are\n",
      "strong multicollinearity or other numerical problems.\n"
     ]
    }
   ],
   "source": [
    "import statsmodels.api as sm\n",
    "\n",
    "# read training dataset\n",
    "\n",
    "training_data = pd.read_parquet('clean_car_listings.parquet')\n",
    "\n",
    "# filter out categorical features\n",
    "categorical_feats = ['make', 'model', 'trim', 'exterior_color', 'interior_color', 'usage_type', 'city', 'state']\n",
    "training_data.drop(columns=categorical_feats, inplace=True)\n",
    "\n",
    "# view correlation matrix\n",
    "\n",
    "print(training_data.corr())\n",
    "print('')\n",
    "print('')\n",
    "# fit training data to model\n",
    "\n",
    "used_car_model = sm.OLS(training_data['price'], training_data.drop(columns=['price']))\n",
    "result = used_car_model.fit()\n",
    "print(result.summary())"
   ]
  },
  {
   "cell_type": "markdown",
   "metadata": {},
   "source": [
    "##### Using a Filter Approach, we could remove the \"num_accidents\" and \"num_owners\" Features as they have low correlations with the Target Feature. However, when training a Linear or Logistic Regression Model, p-values should always be used as they are the universal indicator of Statistical Significance.\n",
    "##### When we train the model and view the summary table, we can see the \"num_accidents\" and \"num_owners\" Features have p-values lower than 0.05, meaning they are statistically significant, whereas using the Correlation Matrix we would have likely chosen to remove them."
   ]
  },
  {
   "cell_type": "markdown",
   "metadata": {},
   "source": [
    "#### **Wrapper Approach**\n",
    "##### In this example, we'll use the same dataset with the same target feature. However, this time, we'll explore the Forward Sequential and Backward Sequential Approaches."
   ]
  },
  {
   "cell_type": "code",
   "execution_count": 45,
   "metadata": {},
   "outputs": [
    {
     "name": "stdout",
     "output_type": "stream",
     "text": [
      "Correlation Matrix\n",
      "                  price  model_year   mileage  num_accidents  num_owners\n",
      "price          1.000000    0.571336 -0.567152      -0.164303   -0.310564\n",
      "model_year     0.571336    1.000000 -0.741074      -0.193095   -0.507374\n",
      "mileage       -0.567152   -0.741074  1.000000       0.190236    0.435897\n",
      "num_accidents -0.164303   -0.193095  0.190236       1.000000    0.131187\n",
      "num_owners    -0.310564   -0.507374  0.435897       0.131187    1.000000\n",
      "\n",
      "\n",
      "1 Feature Model Summary\n",
      "               coef  std err        t  P>|t|  [0.025  0.975]\n",
      "model_year  13.9712    0.021  659.913    0.0   13.93  14.013\n",
      "\n",
      "2 Feature Model Summary\n",
      "               coef  std err        t  P>|t|  [0.025  0.975]\n",
      "model_year  19.0511    0.032  591.137    0.0  18.988  19.114\n",
      "mileage     -0.1950    0.001 -187.503    0.0  -0.197  -0.193\n",
      "\n",
      "3 Feature Model Summary\n",
      "                    coef  std err        t  P>|t|    [0.025   0.975]\n",
      "model_year       19.1247    0.032  590.610    0.0    19.061   19.188\n",
      "mileage          -0.1912    0.001 -180.864    0.0    -0.193   -0.189\n",
      "num_accidents -1109.3357   58.232  -19.050    0.0 -1223.471 -995.201\n",
      "\n",
      "4 Feature Model Summary\n",
      "                    coef  std err        t  P>|t|    [0.025   0.975]\n",
      "model_year       19.6151    0.039  501.789    0.0    19.538   19.692\n",
      "mileage          -0.1802    0.001 -154.914    0.0    -0.182   -0.178\n",
      "num_accidents -1038.5460   58.128  -17.867    0.0 -1152.476 -924.616\n",
      "num_owners     -996.1127   44.801  -22.234    0.0 -1083.922 -908.303\n",
      "4 Feature Model Summary\n",
      "                    coef  std err        t  P>|t|    [0.025   0.975]\n",
      "model_year       19.6151    0.039  501.789    0.0    19.538   19.692\n",
      "mileage          -0.1802    0.001 -154.914    0.0    -0.182   -0.178\n",
      "num_accidents -1038.5460   58.128  -17.867    0.0 -1152.476 -924.616\n",
      "num_owners     -996.1127   44.801  -22.234    0.0 -1083.922 -908.303\n"
     ]
    }
   ],
   "source": [
    "import statsmodels.api as sm\n",
    "\n",
    "# read training dataset\n",
    "\n",
    "training_data = pd.read_parquet('clean_car_listings.parquet')\n",
    "\n",
    "# filter out categorical features\n",
    "categorical_feats = ['make', 'model', 'trim', 'exterior_color', 'interior_color', 'usage_type', 'city', 'state']\n",
    "training_data.drop(columns=categorical_feats, inplace=True)\n",
    "\n",
    "# view correlation matrix\n",
    "print('Correlation Matrix')\n",
    "print(training_data.corr())\n",
    "print('')\n",
    "print('')\n",
    "\n",
    "'''\n",
    "Forward Sequential Approach. In this approach, we start with one Feature and add more features until we get the best result.\n",
    "'''\n",
    "\n",
    "# fit training data to model with 1 feature.\n",
    "used_car_model = sm.OLS(training_data['price'], training_data.drop(columns=['mileage', 'num_accidents', 'num_owners', 'price']))\n",
    "result = used_car_model.fit()\n",
    "summary = result.summary()\n",
    "results_as_html = summary.tables[1].as_html()\n",
    "summary = pd.read_html(results_as_html, header=0, index_col=0)[0]\n",
    "print('1 Feature Model Summary')\n",
    "print(summary)\n",
    "print('')\n",
    "\n",
    "# fit training data to model with 2 Features.\n",
    "used_car_model = sm.OLS(training_data['price'], training_data.drop(columns=['num_accidents', 'num_owners', 'price']))\n",
    "result = used_car_model.fit()\n",
    "summary = result.summary()\n",
    "results_as_html = summary.tables[1].as_html()\n",
    "summary = pd.read_html(results_as_html, header=0, index_col=0)[0]\n",
    "print('2 Feature Model Summary')\n",
    "print(summary)\n",
    "print('')\n",
    "\n",
    "# fit training data to model with 3 Features\n",
    "used_car_model = sm.OLS(training_data['price'], training_data.drop(columns=['num_owners', 'price']))\n",
    "result = used_car_model.fit()\n",
    "summary = result.summary()\n",
    "results_as_html = summary.tables[1].as_html()\n",
    "summary = pd.read_html(results_as_html, header=0, index_col=0)[0]\n",
    "print('3 Feature Model Summary')\n",
    "print(summary)\n",
    "print('')\n",
    "\n",
    "# fit training data to model with 4 Features\n",
    "used_car_model = sm.OLS(training_data['price'], training_data.drop(columns=['price']))\n",
    "result = used_car_model.fit()\n",
    "summary = result.summary()\n",
    "results_as_html = summary.tables[1].as_html()\n",
    "summary = pd.read_html(results_as_html, header=0, index_col=0)[0]\n",
    "print('4 Feature Model Summary')\n",
    "print(summary)\n",
    "print('')\n",
    "\n",
    "'''\n",
    "Backward Sequential Approach. In this approach, we start with all features and remove features as necessary.\n",
    "'''\n",
    "# fit training data to model with All Features\n",
    "used_car_model = sm.OLS(training_data['price'], training_data.drop(columns=['price']))\n",
    "result = used_car_model.fit()\n",
    "summary = result.summary()\n",
    "results_as_html = summary.tables[1].as_html()\n",
    "summary = pd.read_html(results_as_html, header=0, index_col=0)[0]\n",
    "print('4 Feature Model Summary')\n",
    "print(summary)"
   ]
  }
 ],
 "metadata": {
  "kernelspec": {
   "display_name": "Python 3",
   "language": "python",
   "name": "python3"
  },
  "language_info": {
   "codemirror_mode": {
    "name": "ipython",
    "version": 3
   },
   "file_extension": ".py",
   "mimetype": "text/x-python",
   "name": "python",
   "nbconvert_exporter": "python",
   "pygments_lexer": "ipython3",
   "version": "3.9.12"
  }
 },
 "nbformat": 4,
 "nbformat_minor": 2
}
