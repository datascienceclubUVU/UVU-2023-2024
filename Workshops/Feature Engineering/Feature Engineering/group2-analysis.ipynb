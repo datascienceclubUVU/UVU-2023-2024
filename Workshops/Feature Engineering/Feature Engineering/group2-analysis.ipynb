{
 "cells": [
  {
   "cell_type": "markdown",
   "metadata": {},
   "source": [
    "# **Spotify Stream Analysis**\n",
    "#### **Description:** In this mini-project, you will use the \"spotify-2023.csv\" file to predict how many streams a specific song has on Spotify. Your objective is to preprocess the data and select features using one or more of the approaches identified in the tutorial. You will be using a Regression Tree model.\n",
    "#### **Tip:** Remember to use the ***LabelEncoder*** Class in SciKit-Learn to handle categorical features. "
   ]
  },
  {
   "cell_type": "code",
   "execution_count": null,
   "metadata": {},
   "outputs": [],
   "source": [
    "# training_data = pd.read_csv('spotify-2023.csv', encoding='latin-1')"
   ]
  }
 ],
 "metadata": {
  "language_info": {
   "name": "python"
  }
 },
 "nbformat": 4,
 "nbformat_minor": 2
}
